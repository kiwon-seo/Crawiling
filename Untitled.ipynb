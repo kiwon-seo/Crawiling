{
 "cells": [
  {
   "cell_type": "code",
   "execution_count": 13,
   "metadata": {},
   "outputs": [],
   "source": [
    "import time\n",
    "import pandas as pd\n",
    "\n",
    "from selenium import webdriver\n",
    "from bs4 import BeautifulSoup\n",
    "\n",
    "driver = webdriver.Chrome()  # Optional argument, if not specified will search path.\n",
    "driver.get('https://oscar.go.com/winners');\n",
    "time.sleep(1)\n",
    "\n",
    "html = driver.page_source\n",
    "soup = BeautifulSoup(html, 'html.parser')\n",
    "\n",
    "category = soup.select(\n",
    "    'bls-winners-list > ul > li > div.winners-list__info > a'\n",
    ")\n",
    "movie = soup.select(\n",
    "    'bls-winners-list > ul > li > div.winners-list__info > h3 > a'\n",
    ")\n",
    "producer = soup.select(\n",
    "    'bls-winners-list > ul > li > div.winners-list__info > p'\n",
    ")\n",
    "oscars_2020 = []\n",
    "for item in zip(category, movie, producer):\n",
    "    oscars_2020.append(\n",
    "        {\n",
    "            'category' : item[0].text,\n",
    "            'movie'    : item[1].text,\n",
    "            'producer' : item[2].text\n",
    "        }\n",
    "    )"
   ]
  },
  {
   "cell_type": "code",
   "execution_count": 24,
   "metadata": {},
   "outputs": [],
   "source": [
    "import time\n",
    "import pandas as pd\n",
    "\n",
    "from selenium import webdriver\n",
    "from bs4 import BeautifulSoup\n",
    "\n",
    "delay=3\n",
    "driver = webdriver.Chrome()  # Optional argument, if not specified will search path.\n",
    "driver.get('https://play.google.com/store/apps/details?id=com.neibus&showAllReviews=true');\n",
    "time.sleep(10)\n",
    "\n",
    "html = driver.page_source\n",
    "soup = BeautifulSoup(html, 'html.parser')\n",
    "\n",
    "# category = soup.select(\n",
    "#     'div.d15Mdf.bAhLNe  > div.UD7Dzf')\n",
    "\n",
    "category = soup.select(\n",
    "    'div.UD7Dzf')\n",
    "# movie = soup.select(\n",
    "#     'bls-winners-list > ul > li > div.winners-list__info > h3 > a'\n",
    "# )\n",
    "# producer = soup.select(\n",
    "#     'bls-winners-list > ul > li > div.winners-list__info > p'\n",
    "# )"
   ]
  },
  {
   "cell_type": "code",
   "execution_count": 25,
   "metadata": {},
   "outputs": [
    {
     "data": {
      "text/plain": [
       "[<div class=\"UD7Dzf\" jscontroller=\"LVJlx\"> <span jsname=\"bN97Pc\">4개월째 사용하고 있어요! 버스정보도 확인하고, 네이토큰도 쌓여서 일석이조예요. 마켓에서 네이토큰 사용하는 재미가 쏠쏠해요! 찔끔찔끔 카라멜 같은 것들 사서 출근할 때 편의점에서 교환해가고있어요 :-) 날 따스해지면 여기저기 버스여행 다니면서 네이토큰 더 많이 쌓아봐야겠어요! 버스 탑승하시는 분들 마스크 꼭꼭 착용하시고, 코로나 바이러스 걸리지 않도로 조심합시다 ㅜㅜ!!! 마음 편히 버스 타고 네이토큰 적립해서 응모 이벤트까지 당첨될 수 있는 날이 오길 소망해봐요 &gt;&lt;</span><span jsname=\"fbQN7e\" style=\"display: none;\"></span></div>,\n",
       " <div class=\"UD7Dzf\" jscontroller=\"LVJlx\"> <span jsname=\"bN97Pc\">오늘 업데이트 이후부터 실행하자마자 종료되네요. 앱 맨날 실행시켜놔도 충전 안되는거 굳이 앱 실행시켜서 코인 충전되는지 확인하는것도 지겹고 코인사용도 어렵고 이런걸 왜 몇달씩 썼나 싶네요. P.S. 집에서 와이파이로 잡으니까 켜지긴 하네요. 하지만 충전 안되던건 그대로인듯하니 이젠 일말의 기대도 남아있지 않습니다.</span><span jsname=\"fbQN7e\" style=\"display: none;\"></span></div>,\n",
       " <div class=\"UD7Dzf\" jscontroller=\"LVJlx\"> <span jsname=\"bN97Pc\">버스타는 시간이 항상 정거장은 3-4개정도고 시간이 짧아서 인식이 안될때가 종종있어요.. 하지만 출석체크 보상이 빵빵해서 좋습니다! 조금씩 모여가는 게 기분이 좋아요~ ^^</span><span jsname=\"fbQN7e\" style=\"display: none;\"></span></div>,\n",
       " <div class=\"UD7Dzf\" jscontroller=\"LVJlx\"> <span jsname=\"bN97Pc\">캐쉬가 잘쌓이는게 좋네요. 1단위로 눌러야하는 불편함이 있지만 그외는 정말 만족합니다</span><span jsname=\"fbQN7e\" style=\"display: none;\"></span></div>,\n",
       " <div class=\"UD7Dzf\" jscontroller=\"LVJlx\"> <span jsname=\"bN97Pc\">적립이 안되네요.. 아침에 매일 같은 버스를 이용해사 출근하는데 계속 적립이 안됩니다. 이유가 뭔가요?</span><span jsname=\"fbQN7e\" style=\"display: none;\"></span></div>,\n",
       " <div class=\"UD7Dzf\" jscontroller=\"LVJlx\"> <span jsname=\"bN97Pc\">출석체크 이벤트는 버스를 연속해서 며칠간 타도 적립이 안되고 매일같이 접속해도 적립이 안되고 그와중에 내가 이달에 며칠을 출석했는지도 안보이니 답답하네유,,,ㅠ</span><span jsname=\"fbQN7e\" style=\"display: none;\"></span></div>,\n",
       " <div class=\"UD7Dzf\" jscontroller=\"LVJlx\"> <span jsname=\"bN97Pc\">서버관련 문제로 접속에 어려움이 있었고 제가 리뷰도 개발자 분들 기분 나쁠만 하게 적어놨는데 말도 안되는 빠른 대처로 정말 친절하게 해결해 주셨습니다. 이 어플은 진짜 흥했으면 좋겠네요. 초심 잃지 마시고 계속해서 많은 사용자들이 저처럼 좋은 경험을 이 어플 통해 이어갔으면 좋겠어요</span><span jsname=\"fbQN7e\" style=\"display: none;\"></span></div>,\n",
       " <div class=\"UD7Dzf\" jscontroller=\"LVJlx\"> <span jsname=\"bN97Pc\">문제가 있어 고객센터 문의사항 올렸는데 아직 답이 안와서요 요 며칠전부터 버스타고 위치를 켰는데 네이토큰이 생기지 않아서요 3일이나.. ;;;; 예전에는 잘 적립했는데... 무슨 오류가 생긴건지... 계속 이러면 네이토큰 다써버리고 탈퇴를 해야되나 생각도 들고 .. 개발자님의 빠른 답변 부탁드립니다</span><span jsname=\"fbQN7e\" style=\"display: none;\"></span></div>,\n",
       " <div class=\"UD7Dzf\" jscontroller=\"LVJlx\"> <span jsname=\"bN97Pc\">정말 잘 만들어주신 어플 잘 사용하고있습니다. 한가지 건의 및 문의드립니다. 밤 12시를 기점으로 리셋되는거같은데 12시 이전에 버스를타서 12시이후에 내리게되면 12시 이전에 적립된 금액은 없어지던데 리셋 기준시간을 2시로 잡을순없나요? 보통 12시반에서 1시면 왠만한 시내버스는 운행이 종료되고 4시에서 4시반이면 첫차운행이 시작되는걸 감안해서 조정이안될까요?</span><span jsname=\"fbQN7e\" style=\"display: none;\"></span></div>,\n",
       " <div class=\"UD7Dzf\" jscontroller=\"LVJlx\"> <span jsname=\"bN97Pc\">출퇴근 버스로 하게 되면서 네이버스 사용하게 되었는데 오류가 넘 많아요 적립이 안될때가 종종 있고요 지금도 계속 접속이 안되네요ㅜㅜ 업데이트 있길래 업데이트도 했고 재부팅도 해봤는데 인터넷연결 에러뜨네요 에러부분만 없다면 정말 좋은데 말이죠</span><span jsname=\"fbQN7e\" style=\"display: none;\"></span></div>,\n",
       " <div class=\"UD7Dzf\" jscontroller=\"LVJlx\"> <span jsname=\"bN97Pc\">방금 앱을 깔았는데 설명이 이해가 안 가는 부분이 많아서 몇 가지 질문하겠습니다.... 1. 교통카드로 버스를 타도 적립이 되는 건가요? 아니면 모바일 교통카드를 이용해서 폰을 찍고 버스를 타야 적립되나요? 2. 데이터나 와이파이를 켜둔 상태로 버스를 타야 하나요?</span><span jsname=\"fbQN7e\" style=\"display: none;\"></span></div>,\n",
       " <div class=\"UD7Dzf\" jscontroller=\"LVJlx\"> <span jsname=\"bN97Pc\">서울살면서 바깥풍경보며 버스 타는 걸 좋아하는데, 대중교통 이용하면서 리워드앱이 생기니 정말 획기적이고 좋은 것 같아요! 대중교통 이용하면서 환경도 살리고 포인트도 쌓고^^ 미세먼지 없는 날이 많아지도록 네이버스 이용 많이 하려구요 ㅎㅎㅎ</span><span jsname=\"fbQN7e\" style=\"display: none;\"></span></div>,\n",
       " <div class=\"UD7Dzf\" jscontroller=\"LVJlx\"> <span jsname=\"bN97Pc\">대중교통 복지 혁신 앱 네이버스 네이버스 덕분에 버스 도착 실시간 확인 하며 잘 활용하고 있어요. 대중교통 이용하면서 토큰 자동 적립 적립된 토큰으로 이벤트 참가 하여 5만원 충전된 교통카드 당첨 되었습니다.~^^ 정말 감사해요. 간지나는 선물상자 보는순간 너무 기분 좋았어요~^^~ 앞으로도 좋은 이벤트가 많아 지길 바레요 늦은감이 있지만 새해 복 많이 받으세요~^^</span><span jsname=\"fbQN7e\" style=\"display: none;\"></span></div>,\n",
       " <div class=\"UD7Dzf\" jscontroller=\"LVJlx\"> <span jsname=\"bN97Pc\">( NULPQS ) 정말 앱이 너무 좋아서 씁니다. 먼저 즐겨찾기에 자주 타는 버스를 한번에 볼수 있고 시간 초까지 다 나오니깐 너무 편하고 다른 앱보다 포인트가 잘 쌓이니깐 너무 좋아요 근데 조금의 불편함은 포인트 쌓인거를 하나씩 다 누르는게 조금은 불편해요 그리고 마켓에 조금더 많은 물건이 있었으면 좋겠습니다 그것만 빼면 너무 좋아요!!!</span><span jsname=\"fbQN7e\" style=\"display: none;\"></span></div>,\n",
       " <div class=\"UD7Dzf\" jscontroller=\"LVJlx\"> <span jsname=\"bN97Pc\">출퇴근을 버스로 하다보니 적립금 쌓이는 속도도 빠르고 너무 만족스럽게 잘 쓰고 있습니다. 다만 요즘들어 제대로 적립금이 쌓이지 않는경우가 자주 발생해서 아쉽네요ㅠㅠ GPS도 잘 켜져있는데 뭐가 문제인지 확인 부탁드려요</span><span jsname=\"fbQN7e\" style=\"display: none;\"></span></div>,\n",
       " <div class=\"UD7Dzf\" jscontroller=\"LVJlx\"> <span jsname=\"bN97Pc\">위치정보 켜놨는데 제대로 적립이 안되네요... 오늘 한 100N 정도는 적립 되어있어야 하는데... 12시에 포인트 사라지는 건 됐으니까 제대로 적립좀 해줘요... 설마 고속도로는 적립 안되는거 아니죠?</span><span jsname=\"fbQN7e\" style=\"display: none;\"></span></div>,\n",
       " <div class=\"UD7Dzf\" jscontroller=\"LVJlx\"> <span jsname=\"bN97Pc\">배터리를 꽤 많이 잡아먹어요..백그라운드로 도는 앱인데도 출근시간에만 3%이상을 잡아먹네요.. 그리고 한개씩 눌러서 적립하는거 너무 불편합니다....ㅠㅠ</span><span jsname=\"fbQN7e\" style=\"display: none;\"></span></div>,\n",
       " <div class=\"UD7Dzf\" jscontroller=\"LVJlx\"> <span jsname=\"bN97Pc\">버스 탑승에 대한 네이토큰 정립방식을 잘 모르겠어요! 아까전에도 한 30분동안 버스 탔는데, 1토큰도 안생기더라구요ㅠㅜ 출석체크같은 다양한 이벤트는 좋아요!</span><span jsname=\"fbQN7e\" style=\"display: none;\"></span></div>,\n",
       " <div class=\"UD7Dzf\" jscontroller=\"LVJlx\"> <span jsname=\"bN97Pc\">갑자기 인터넷연결안된다고 재시도한다하고 실행이 안되네요... 오늘 버스이용한부분 적립되어잇는지도 모르겠네요..</span><span jsname=\"fbQN7e\" style=\"display: none;\"></span></div>,\n",
       " <div class=\"UD7Dzf\" jscontroller=\"LVJlx\"> <span jsname=\"bN97Pc\">버스가 오는 걸 확인할 수 있어서 좋고 도착 시간 확인하니 미리 나가 기다리지 않아도 너무 좋아요 다만 내가 즐겨찾기 해놓은 버스가 온다고 알림이 왔으면 참 좋겠어요</span><span jsname=\"fbQN7e\" style=\"display: none;\"></span></div>,\n",
       " <div class=\"UD7Dzf\" jscontroller=\"LVJlx\"> <span jsname=\"bN97Pc\">첨 다운 받았어요~ 그런데 부천버스 송내역B이용중인데 15번이 33번으로 바뀐지 한달되가는거 같은데... 아직도 15번으로 뜨네요.. 시간은 잘 맞길 바래봅니다 개선이 빠르네요~~ 평가점수 올렸습니다^^</span><span jsname=\"fbQN7e\" style=\"display: none;\"></span></div>,\n",
       " <div class=\"UD7Dzf\" jscontroller=\"LVJlx\"> <span jsname=\"bN97Pc\">버스 많이 타고 다니는 사람들은 좋을거 같음. 포인트 모아서 컵라면 사먹으니 기분 좋았음. 그러나 배터리가 많이 닳는다는 단점이 있음.</span><span jsname=\"fbQN7e\" style=\"display: none;\"></span></div>,\n",
       " <div class=\"UD7Dzf\" jscontroller=\"LVJlx\"> <span jsname=\"bN97Pc\">직장 옮겨서 버스만 한시간넘게 타고 출근합니다. 그래서 잘사용했는데 몇일동안 적립이안되네요? 혹시나해서 앱지워도해봤는데 안되네요 어떻게햐야적립될까요?</span><span jsname=\"fbQN7e\" style=\"display: none;\"></span></div>,\n",
       " <div class=\"UD7Dzf\" jscontroller=\"LVJlx\"> <span jsname=\"bN97Pc\">서울만 되는 건가요? 아무리 찾아보아도 저희 동네 버스정류장이 없네요 너무하네요 앱을 깔기 전 미리 공지를 띄어 놓으면 좋을 거 같아요</span><span jsname=\"fbQN7e\" style=\"display: none;\"></span></div>,\n",
       " <div class=\"UD7Dzf\" jscontroller=\"LVJlx\"> <span jsname=\"bN97Pc\">요즘들어 계속 적립안돼여 적립안되 미안 포인트도 오늘 총 세번 대중교통 이용했는데 한번 밖에 안되고,,, 언제 안정되는건가요ㅡㅡ</span><span jsname=\"fbQN7e\" style=\"display: none;\"></span></div>,\n",
       " <div class=\"UD7Dzf\" jscontroller=\"LVJlx\"> <span jsname=\"bN97Pc\">업데이트를 한 시점부터 버스를 탑승해도 토큰이 적립되지 않습니다. 전체적으로 서비스 점검 좀 부탁드립니다.</span><span jsname=\"fbQN7e\" style=\"display: none;\"></span></div>,\n",
       " <div class=\"UD7Dzf\" jscontroller=\"LVJlx\"> <span jsname=\"bN97Pc\">접속 오류는 고쳐졌는데, 리뷰를 막아두신건지 욕 하나 안 썼는데 금지단어 있다고 리뷰 등록이 안 되네요.</span><span jsname=\"fbQN7e\" style=\"display: none;\"></span></div>,\n",
       " <div class=\"UD7Dzf\" jscontroller=\"LVJlx\"> <span jsname=\"bN97Pc\">정말 다 좋은데 배터리가 너무 빨리 닳아요...ㅠ 앱의 배터리 사용량을 줄이는 업데이트가 가능한가요?</span><span jsname=\"fbQN7e\" style=\"display: none;\"></span></div>,\n",
       " <div class=\"UD7Dzf\" jscontroller=\"LVJlx\"> <span jsname=\"bN97Pc\">어플 실행 시 인터넷 연결 안됨 메시지 발생합니다. 조치 요청드립니다.</span><span jsname=\"fbQN7e\" style=\"display: none;\"></span></div>,\n",
       " <div class=\"UD7Dzf\" jscontroller=\"LVJlx\"> <span jsname=\"bN97Pc\">계속 인터넷 연결 안돼있다고 접속불량뜨는데 왜 그런거죠ㅠㅠ? 데이터로 다른 거 다 되는데 네이버스만 안되네요ㅠ</span><span jsname=\"fbQN7e\" style=\"display: none;\"></span></div>,\n",
       " <div class=\"UD7Dzf\" jscontroller=\"LVJlx\"> <span jsname=\"bN97Pc\">빨리충전이되는것같기도하고아닌것같기도하네요 ㅋ 조금더사용해봐야될것같아요</span><span jsname=\"fbQN7e\" style=\"display: none;\"></span></div>,\n",
       " <div class=\"UD7Dzf\" jscontroller=\"LVJlx\"> <span jsname=\"bN97Pc\">주말에 앱깔고 자주 타는 버스 등록하고 월요일인 오늘 들어가려고 눌렀더니 접속자체가 안됩니다</span><span jsname=\"fbQN7e\" style=\"display: none;\"></span></div>,\n",
       " <div class=\"UD7Dzf\" jscontroller=\"LVJlx\"> <span jsname=\"bN97Pc\">궁금한게있는데요 즐겨찾기한 버스노선만 적립이되는건가요? 아니면 무관하게 이용가능한가요?</span><span jsname=\"fbQN7e\" style=\"display: none;\"></span></div>,\n",
       " <div class=\"UD7Dzf\" jscontroller=\"LVJlx\"> <span jsname=\"bN97Pc\">잘 쓰고 있었는데 업데이트 후에 오히려 토큰이 적립이 안되네요 ㅠㅠ</span><span jsname=\"fbQN7e\" style=\"display: none;\"></span></div>,\n",
       " <div class=\"UD7Dzf\" jscontroller=\"LVJlx\"> <span jsname=\"bN97Pc\">자주 사용하는 정류장이 추가 할 수가 있으면 좋겠습니다</span><span jsname=\"fbQN7e\" style=\"display: none;\"></span></div>,\n",
       " <div class=\"UD7Dzf\" jscontroller=\"LVJlx\"> <span jsname=\"bN97Pc\">혹시 서울 인천 경기도말고 다른지역은 추가안되나요?</span><span jsname=\"fbQN7e\" style=\"display: none;\"></span></div>,\n",
       " <div class=\"UD7Dzf\" jscontroller=\"LVJlx\"> <span jsname=\"bN97Pc\">업데이트후로 적립이 안되네요 ㅜㅜ 수정해주세요!!</span><span jsname=\"fbQN7e\" style=\"display: none;\"></span></div>,\n",
       " <div class=\"UD7Dzf\" jscontroller=\"LVJlx\"> <span jsname=\"bN97Pc\">경기도 버스를 타는데 아직도 적립이 안되네요</span><span jsname=\"fbQN7e\" style=\"display: none;\"></span></div>,\n",
       " <div class=\"UD7Dzf\" jscontroller=\"LVJlx\"> <span jsname=\"bN97Pc\">리뷰 지우네 헐 잘 되지도 않음</span><span jsname=\"fbQN7e\" style=\"display: none;\"></span></div>,\n",
       " <div class=\"UD7Dzf\" jscontroller=\"LVJlx\"> <span jsname=\"bN97Pc\">가입해서 잘 사용하고 있는데 오늘 12월9일 접속이 안되네요. 확인부탁드립니다.</span><span jsname=\"fbQN7e\" style=\"display: none;\"></span></div>]"
      ]
     },
     "execution_count": 25,
     "metadata": {},
     "output_type": "execute_result"
    }
   ],
   "source": [
    "category"
   ]
  },
  {
   "cell_type": "code",
   "execution_count": null,
   "metadata": {},
   "outputs": [],
   "source": []
  }
 ],
 "metadata": {
  "kernelspec": {
   "display_name": "Python 3",
   "language": "python",
   "name": "python3"
  },
  "language_info": {
   "codemirror_mode": {
    "name": "ipython",
    "version": 3
   },
   "file_extension": ".py",
   "mimetype": "text/x-python",
   "name": "python",
   "nbconvert_exporter": "python",
   "pygments_lexer": "ipython3",
   "version": "3.7.4"
  }
 },
 "nbformat": 4,
 "nbformat_minor": 2
}
